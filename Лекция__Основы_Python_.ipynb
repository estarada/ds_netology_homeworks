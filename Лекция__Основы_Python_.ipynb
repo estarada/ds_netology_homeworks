{
  "nbformat": 4,
  "nbformat_minor": 0,
  "metadata": {
    "colab": {
      "provenance": []
    },
    "kernelspec": {
      "name": "python3",
      "display_name": "Python 3"
    },
    "language_info": {
      "name": "python"
    }
  },
  "cells": [
    {
      "cell_type": "markdown",
      "source": [
        "## Задание 1"
      ],
      "metadata": {
        "id": "C77NKCPUa7u6"
      }
    },
    {
      "cell_type": "markdown",
      "source": [
        "Даны 2 переменных, в которых хранятся строки произвольной длины: phrase_1 и phrase_2.\n",
        "Напишите код, который проверяет какая из этих строк длиннее."
      ],
      "metadata": {
        "id": "Bu-Ft0AKbDiW"
      }
    },
    {
      "cell_type": "code",
      "source": [
        "phrase_1 = input('Введите первый текст:\\n')\n",
        "print()\n",
        "phrase_2 = input('Введите второй текст:\\n')"
      ],
      "metadata": {
        "colab": {
          "base_uri": "https://localhost:8080/"
        },
        "id": "tSHD83QEa-Pi",
        "outputId": "26b10fc1-8f38-4e2a-9f23-bdbc8cb82811"
      },
      "execution_count": 8,
      "outputs": [
        {
          "name": "stdout",
          "output_type": "stream",
          "text": [
            "Введите первый текст:\n",
            "640Кб должно хватить для любых задач. Билл Гейтс (по легенде)\n",
            "\n",
            "Введите второй текст:\n",
            "Насколько проще было бы писать программы, если бы не заказчики\n"
          ]
        }
      ]
    },
    {
      "cell_type": "code",
      "source": [
        "if phrase_1 == phrase_2:\n",
        "  print('Длины текстов равны')\n",
        "elif phrase_1 > phrase_2:\n",
        "  print('Первый текст длиннее')\n",
        "else:\n",
        "  print('Второй текст длиннее')"
      ],
      "metadata": {
        "colab": {
          "base_uri": "https://localhost:8080/"
        },
        "id": "E-bsMpn6bUQ_",
        "outputId": "dc89912a-3a15-4c35-b1da-27bd88a49843"
      },
      "execution_count": 9,
      "outputs": [
        {
          "output_type": "stream",
          "name": "stdout",
          "text": [
            "Второй текст длиннее\n"
          ]
        }
      ]
    },
    {
      "cell_type": "markdown",
      "source": [
        "## Задание 2"
      ],
      "metadata": {
        "id": "JoJ23Yv3bwKb"
      }
    },
    {
      "cell_type": "markdown",
      "source": [
        "Дана переменная, в которой хранится число (год). Необходимо написать программу, которая выведет, является ли данный год високосным или обычным."
      ],
      "metadata": {
        "id": "S-ZT7I14bwjm"
      }
    },
    {
      "cell_type": "code",
      "source": [
        "year = int(input('Введите номер года\\n'))"
      ],
      "metadata": {
        "colab": {
          "base_uri": "https://localhost:8080/"
        },
        "id": "f9W3tB4VbzjR",
        "outputId": "2e9a456b-1026-4643-95e2-32abd27cd567"
      },
      "execution_count": 3,
      "outputs": [
        {
          "name": "stdout",
          "output_type": "stream",
          "text": [
            "Введите номер года\n",
            "2024\n"
          ]
        }
      ]
    },
    {
      "cell_type": "code",
      "source": [
        "if year % 4 == 0:\n",
        "  print('Год високосный')\n",
        "else:\n",
        "  print('Год не високосный')"
      ],
      "metadata": {
        "colab": {
          "base_uri": "https://localhost:8080/"
        },
        "id": "x8ZirXB4b3rL",
        "outputId": "96bc5bbd-8654-46f2-d257-ca1776dd2b16"
      },
      "execution_count": 4,
      "outputs": [
        {
          "output_type": "stream",
          "name": "stdout",
          "text": [
            "Год високосный\n"
          ]
        }
      ]
    },
    {
      "cell_type": "markdown",
      "source": [
        "## Задание 3"
      ],
      "metadata": {
        "id": "eOyuWyPncleL"
      }
    },
    {
      "cell_type": "markdown",
      "source": [
        "Необходимо написать программу, которая будет запрашивать у пользователя месяц и дату рождения и выводить соответствующий знак зодиака."
      ],
      "metadata": {
        "id": "WKqaweFucpWo"
      }
    },
    {
      "cell_type": "code",
      "source": [
        "month = input('Введите месяц рождения (кириллицей и без сокращений)\\n')\n",
        "print()\n",
        "day = int(input('Введите дату рождения (число)\\n'))\n",
        "print('\\nВаш знак зодиака:')\n",
        "\n",
        "if (month == 'Декабрь' and 21 <= day <= 31) or (month == 'Январь' and 1 <= day <= 19):\n",
        "  print('Козерог')\n",
        "elif (month == 'Январь' and 19 <= day <= 31) or (month == 'Февраль' and 1 <= day <= 19):\n",
        "  print('Водолей')\n",
        "elif (month == 'Февраль' and 20 <= day <= 29) or (month == 'Март' and 1 <= day <= 20):\n",
        "  print('Рыбы')\n",
        "elif (month == 'Март' and 21 <= day <= 31) or (month == 'Апрель' and 1 <= day <= 19):\n",
        "  print('Овен')\n",
        "elif (month == 'Апрель' and 19 <= day <= 30) or (month == 'Май' and 1 <= day <= 20):\n",
        "  print('Телец')\n",
        "elif (month == 'Май' and 21 <= day <= 31) or (month == 'Июнь' and 1 <= day <= 20):\n",
        "  print('Близнецы')\n",
        "elif (month == 'Июнь' and 21 <= day <= 30) or (month == 'Июль' and 1 <= day <= 22):\n",
        "  print('Рак')\n",
        "elif (month == 'Июль' and 23 <= day <= 31) or (month == 'Август' and 1 <= day <= 22):\n",
        "  print('Лев')\n",
        "elif (month == 'Август' and 22 <= day <= 31) or (month == 'Сентябрь' and 1 <= day <= 22):\n",
        "  print('Дева')\n",
        "elif (month == 'Сентябрь' and 22 <= day <= 30) or (month == 'Октябрь' and 1 <= day <= 23):\n",
        "  print('Весы')\n",
        "elif (month == 'Октябрь' and 24 <= day <= 31) or (month == 'Ноябрь' and 1 <= day <= 22):\n",
        "  print('Скорпион')\n",
        "elif (month == 'Ноябрь' and 23 <= day <= 30) or (month == 'Декабрь' and 1 <= day <= 21):\n",
        "  print('Стрелец')\n",
        "else:\n",
        "  print('Проверьте корректность введенных данных')"
      ],
      "metadata": {
        "colab": {
          "base_uri": "https://localhost:8080/"
        },
        "id": "5fuq33wqdaj3",
        "outputId": "b950338c-8bca-400c-bb91-49a8add14f01"
      },
      "execution_count": 19,
      "outputs": [
        {
          "output_type": "stream",
          "name": "stdout",
          "text": [
            "Введите месяц рождения (кириллицей и без сокращений)\n",
            "Сентябрь\n",
            "\n",
            "Введите дату рождения (число)\n",
            "17\n",
            "\n",
            "Ваш знак зодиака:\n",
            "Дева\n"
          ]
        }
      ]
    },
    {
      "cell_type": "markdown",
      "source": [
        "## Задание 4"
      ],
      "metadata": {
        "id": "i-ekDQZ-gowx"
      }
    },
    {
      "cell_type": "markdown",
      "source": [
        "Вам нужно написать программу для подбора упаковок по размерам товара. Размеры (ширина, длина, высота) хранятся в переменных (в сантиметрах):\n",
        "\n",
        "Используйте следующие правила:\n",
        "\n",
        "*   если каждое из трех измерений менее или равно 15 сантиметрам, то выведите на экран \"Коробка №1\";\n",
        "*   если хотя бы одно из измерений больше 2 метров, то выводите \"Упаковка для лыж\";\n",
        "*   если хотя бы одно из измерений больше 15 сантиметров, но менее 50 сантиметров, то выводите \"Коробка №2\";\n",
        "*   во всех остальных случаях выводите \"Коробка №3\"."
      ],
      "metadata": {
        "id": "-jfndsS2gsB_"
      }
    },
    {
      "cell_type": "code",
      "source": [
        "width = 5\n",
        "length = 1\n",
        "heigth = 16\n",
        "\n",
        "\n",
        "if max(width, length, heigth) <= 15:\n",
        "  print('Коробка №1')\n",
        "elif max(width, length, heigth) > 200:\n",
        "  print('Коробка для лыж')\n",
        "elif 15 < width < 50 or 15 < length < 50 or 15 < heigth < 50:\n",
        "  print('Коробка №2')\n",
        "else:\n",
        "  print('Коробка №3')"
      ],
      "metadata": {
        "colab": {
          "base_uri": "https://localhost:8080/"
        },
        "id": "9D4dz8mHhQLa",
        "outputId": "13e78bc4-ee5e-4dbc-e6f4-042374b9a6bd"
      },
      "execution_count": 21,
      "outputs": [
        {
          "output_type": "stream",
          "name": "stdout",
          "text": [
            "Коробка №2\n"
          ]
        }
      ]
    },
    {
      "cell_type": "markdown",
      "source": [
        "## Задание 5"
      ],
      "metadata": {
        "id": "hQyt2CRRjAEA"
      }
    },
    {
      "cell_type": "markdown",
      "source": [
        "Дана переменная, в которой хранится шестизначное число (номер проездного билета). Напишите программу, которая будет определять, является ли данный билет \"счастливым\". Билет считается счастливым, если сумма первых трех цифр совпадает с суммой последних трех цифр номера."
      ],
      "metadata": {
        "id": "SowcekvjjDFy"
      }
    },
    {
      "cell_type": "code",
      "source": [
        "num = 129660"
      ],
      "metadata": {
        "id": "o4XYpYPyjCnc"
      },
      "execution_count": 45,
      "outputs": []
    },
    {
      "cell_type": "code",
      "source": [
        "# Первый способ\n",
        "len_num = len(str(num))\n",
        "sum_first_3_digits = num // 10 ** (len_num - 1) + num // 10 ** (len_num - 2) % 10 + num // 10 ** (len_num - 3) % 10    # первая цифра + последняя цифра от первых двух цифр + последняя цифра от первых 3 цифр\n",
        "sum_last_3_digits = (num % 10 ** 3 // 10 ** 2) + (num % 10 ** 2 // 10) + num % 10                                      # последняя цифра от последних 3 цифр + последняя цифра от последних 2  цифр + последняя цифра\n",
        "\n",
        "if sum_first_3_digits == sum_last_3_digits:\n",
        "  print('Счастливый билет')\n",
        "else:\n",
        "  print('Несчастливый билет')"
      ],
      "metadata": {
        "colab": {
          "base_uri": "https://localhost:8080/"
        },
        "id": "-Yd7oA62jMix",
        "outputId": "34137c52-6e18-4d4a-9469-a153a2acbd86"
      },
      "execution_count": 46,
      "outputs": [
        {
          "output_type": "stream",
          "name": "stdout",
          "text": [
            "Счастливый билет\n"
          ]
        }
      ]
    },
    {
      "cell_type": "code",
      "source": [
        "# Второй способ\n",
        "str_num = str(num)\n",
        "if int(str_num[0]) + int(str_num[1]) + int(str_num[2]) == int(str_num[-3]) + int(str_num[-2]) + int(str_num[-1]):\n",
        "  print('Счастливый билет')\n",
        "else:\n",
        "  print('Несчастливый билет')"
      ],
      "metadata": {
        "colab": {
          "base_uri": "https://localhost:8080/"
        },
        "id": "wdgvh35PjeWy",
        "outputId": "988819ef-754b-499c-8cc2-54bfc21ea183"
      },
      "execution_count": 49,
      "outputs": [
        {
          "output_type": "stream",
          "name": "stdout",
          "text": [
            "Счастливый билет\n"
          ]
        }
      ]
    },
    {
      "cell_type": "markdown",
      "source": [
        "## Задание 6"
      ],
      "metadata": {
        "id": "AxvILSicoY_G"
      }
    },
    {
      "cell_type": "markdown",
      "source": [
        "Напишите программу, которая сможет вычислять площади трех фигур (круг, треугольник и прямоугольник). Тип фигуры запрашиваем через пользовательский ввод, после чего делаем запрос характеристик фигуры:\n",
        "\n",
        "* если пользователь выбрал круг, запрашиваем его радиус,\n",
        "* если треугольник – длины трех его сторон;\n",
        "* если прямоугольник – длины двух его сторон."
      ],
      "metadata": {
        "id": "_0GFhVqkobJc"
      }
    },
    {
      "cell_type": "code",
      "source": [
        "from math import pi, sqrt\n",
        "\n",
        "\n",
        "figure = input('Круг, треугольник или прямоугольник\\n').lower()\n",
        "print()\n",
        "\n",
        "\n",
        "if figure == 'круг':\n",
        "\n",
        "  rad = float(input('Введите радиус\\n'))\n",
        "\n",
        "  print()\n",
        "  print('Площадь круга = ', pi * rad ** 2)\n",
        "\n",
        "\n",
        "elif figure == 'треугольник':\n",
        "\n",
        "  a, b, c = [float(num) for num in input('Введите длины сторон через запятую с пробелом\\n').split(', ')]\n",
        "  p = (a + b + c) / 2\n",
        "\n",
        "  print()\n",
        "  print('Площадь треугольника = ', sqrt(p * (p - a) * (p - b) * (p - c)) )\n",
        "\n",
        "\n",
        "elif figure == 'прямоугольник':\n",
        "\n",
        "  a, b = [float(num) for num in input('Введите длины сторон через запятую с пробелом\\n').split(', ')]\n",
        "\n",
        "  print()\n",
        "  print('Площадь треугольника = ', a * b)\n",
        "\n",
        "\n",
        "else:\n",
        "\n",
        "  print('Проверьте корректность ввода фигуры')\n"
      ],
      "metadata": {
        "colab": {
          "base_uri": "https://localhost:8080/"
        },
        "id": "jq4gfbxFohHd",
        "outputId": "9b27264a-06d8-4442-92e9-8efc9d9859ba"
      },
      "execution_count": 66,
      "outputs": [
        {
          "output_type": "stream",
          "name": "stdout",
          "text": [
            "Круг, треугольник или прямоугольник\n",
            "прямоугольник\n",
            "\n",
            "Введите длины сторон через запятую с пробелом\n",
            "3, 4\n",
            "\n",
            "Площадь треугольника =  12.0\n"
          ]
        }
      ]
    },
    {
      "cell_type": "code",
      "source": [],
      "metadata": {
        "id": "vTyE3PgyrdLD"
      },
      "execution_count": null,
      "outputs": []
    }
  ]
}